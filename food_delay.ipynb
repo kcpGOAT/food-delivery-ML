{
 "cells": [
  {
   "cell_type": "code",
   "execution_count": 85,
   "id": "7a38d4c3",
   "metadata": {
    "scrolled": true
   },
   "outputs": [],
   "source": [
    "import numpy as np\n",
    "import pandas as pd\n",
    "import polars as pl\n",
    "from sklearn.linear_model import Lasso, LinearRegression, Ridge\n",
    "from sklearn.model_selection import cross_val_score\n",
    "import xgboost as xgb\n",
    "\n",
    "delivery_data = pl.read_csv('/Users/ryanquach/Downloads/deliverytime.csv')"
   ]
  },
  {
   "cell_type": "code",
   "execution_count": 86,
   "id": "7edb91e9",
   "metadata": {
    "scrolled": true
   },
   "outputs": [
    {
     "data": {
      "text/html": [
       "<div><style>\n",
       ".dataframe > thead > tr,\n",
       ".dataframe > tbody > tr {\n",
       "  text-align: right;\n",
       "  white-space: pre-wrap;\n",
       "}\n",
       "</style>\n",
       "<small>shape: (5, 11)</small><table border=\"1\" class=\"dataframe\"><thead><tr><th>ID</th><th>Delivery_person_ID</th><th>Delivery_person_Age</th><th>Delivery_person_Ratings</th><th>Restaurant_latitude</th><th>Restaurant_longitude</th><th>Delivery_location_latitude</th><th>Delivery_location_longitude</th><th>Type_of_order</th><th>Type_of_vehicle</th><th>Time_taken(min)</th></tr><tr><td>str</td><td>str</td><td>i64</td><td>f64</td><td>f64</td><td>f64</td><td>f64</td><td>f64</td><td>str</td><td>str</td><td>i64</td></tr></thead><tbody><tr><td>&quot;4607&quot;</td><td>&quot;INDORES13DEL02…</td><td>37</td><td>4.9</td><td>22.745049</td><td>75.892471</td><td>22.765049</td><td>75.912471</td><td>&quot;Snack &quot;</td><td>&quot;motorcycle &quot;</td><td>24</td></tr><tr><td>&quot;B379&quot;</td><td>&quot;BANGRES18DEL02…</td><td>34</td><td>4.5</td><td>12.913041</td><td>77.683237</td><td>13.043041</td><td>77.813237</td><td>&quot;Snack &quot;</td><td>&quot;scooter &quot;</td><td>33</td></tr><tr><td>&quot;5D6D&quot;</td><td>&quot;BANGRES19DEL01…</td><td>23</td><td>4.4</td><td>12.914264</td><td>77.6784</td><td>12.924264</td><td>77.6884</td><td>&quot;Drinks &quot;</td><td>&quot;motorcycle &quot;</td><td>26</td></tr><tr><td>&quot;7A6A&quot;</td><td>&quot;COIMBRES13DEL0…</td><td>38</td><td>4.7</td><td>11.003669</td><td>76.976494</td><td>11.053669</td><td>77.026494</td><td>&quot;Buffet &quot;</td><td>&quot;motorcycle &quot;</td><td>21</td></tr><tr><td>&quot;70A2&quot;</td><td>&quot;CHENRES12DEL01…</td><td>32</td><td>4.6</td><td>12.972793</td><td>80.249982</td><td>13.012793</td><td>80.289982</td><td>&quot;Snack &quot;</td><td>&quot;scooter &quot;</td><td>30</td></tr></tbody></table></div>"
      ],
      "text/plain": [
       "shape: (5, 11)\n",
       "┌──────┬────────────┬────────────┬────────────┬───┬────────────┬───────────┬───────────┬───────────┐\n",
       "│ ID   ┆ Delivery_p ┆ Delivery_p ┆ Delivery_p ┆ … ┆ Delivery_l ┆ Type_of_o ┆ Type_of_v ┆ Time_take │\n",
       "│ ---  ┆ erson_ID   ┆ erson_Age  ┆ erson_Rati ┆   ┆ ocation_lo ┆ rder      ┆ ehicle    ┆ n(min)    │\n",
       "│ str  ┆ ---        ┆ ---        ┆ ngs        ┆   ┆ ngitude    ┆ ---       ┆ ---       ┆ ---       │\n",
       "│      ┆ str        ┆ i64        ┆ ---        ┆   ┆ ---        ┆ str       ┆ str       ┆ i64       │\n",
       "│      ┆            ┆            ┆ f64        ┆   ┆ f64        ┆           ┆           ┆           │\n",
       "╞══════╪════════════╪════════════╪════════════╪═══╪════════════╪═══════════╪═══════════╪═══════════╡\n",
       "│ 4607 ┆ INDORES13D ┆ 37         ┆ 4.9        ┆ … ┆ 75.912471  ┆ Snack     ┆ motorcycl ┆ 24        │\n",
       "│      ┆ EL02       ┆            ┆            ┆   ┆            ┆           ┆ e         ┆           │\n",
       "│ B379 ┆ BANGRES18D ┆ 34         ┆ 4.5        ┆ … ┆ 77.813237  ┆ Snack     ┆ scooter   ┆ 33        │\n",
       "│      ┆ EL02       ┆            ┆            ┆   ┆            ┆           ┆           ┆           │\n",
       "│ 5D6D ┆ BANGRES19D ┆ 23         ┆ 4.4        ┆ … ┆ 77.6884    ┆ Drinks    ┆ motorcycl ┆ 26        │\n",
       "│      ┆ EL01       ┆            ┆            ┆   ┆            ┆           ┆ e         ┆           │\n",
       "│ 7A6A ┆ COIMBRES13 ┆ 38         ┆ 4.7        ┆ … ┆ 77.026494  ┆ Buffet    ┆ motorcycl ┆ 21        │\n",
       "│      ┆ DEL02      ┆            ┆            ┆   ┆            ┆           ┆ e         ┆           │\n",
       "│ 70A2 ┆ CHENRES12D ┆ 32         ┆ 4.6        ┆ … ┆ 80.289982  ┆ Snack     ┆ scooter   ┆ 30        │\n",
       "│      ┆ EL01       ┆            ┆            ┆   ┆            ┆           ┆           ┆           │\n",
       "└──────┴────────────┴────────────┴────────────┴───┴────────────┴───────────┴───────────┴───────────┘"
      ]
     },
     "execution_count": 86,
     "metadata": {},
     "output_type": "execute_result"
    }
   ],
   "source": [
    "delivery_data.head()"
   ]
  },
  {
   "cell_type": "code",
   "execution_count": 87,
   "id": "46617c2e",
   "metadata": {
    "scrolled": true
   },
   "outputs": [],
   "source": [
    "def haversine(long_start, lat_start, long_end, lat_end):\n",
    "    long_start, lat_start, long_end, lat_end = map(np.radians, [long_start, lat_start, long_end, lat_end])\n",
    "    \n",
    "    long_dist = long_end - long_start \n",
    "    lat_dist = lat_end - lat_start \n",
    "    a = np.sin(lat_dist/2) ** 2 + np.cos(lat_start) * np.cos(lat_end) * np.sin(long_dist/2) ** 2\n",
    "    c = 2 * np.arcsin(np.sqrt(a))\n",
    "    \n",
    "    km = 6371 * c\n",
    "    return km\n",
    "\n",
    "delivery_data = (delivery_data\n",
    "                .select(pl.exclude(['ID', 'Delivery_person_ID']))\n",
    "                .with_columns(pl.col('Type_of_order').str.to_lowercase())\n",
    "                .select(pl.all().name.map(lambda col_name: col_name.lower()))\n",
    "                .rename({'restaurant_latitude': 'orig_lat',\n",
    "                         'restaurant_longitude': 'orig_long',\n",
    "                         'delivery_location_latitude': 'dest_lat',\n",
    "                         'delivery_location_longitude': 'dest_long',\n",
    "                         'time_taken(min)': 'time_taken'})\n",
    "                .with_columns(haversine(pl.col('orig_lat'), pl.col('orig_long'), \n",
    "                                        pl.col('dest_lat'), pl.col('dest_long')).alias('distance').round(2))\n",
    "                .with_columns([pl.col('type_of_order').str.strip_chars(),\n",
    "                               pl.col('type_of_vehicle').str.strip_chars()])\n",
    "                .select(pl.exclude(['orig_lat', 'orig_long', 'dest_lat', 'dest_long']))\n",
    "                .select(pl.exclude('time_taken'), pl.col('time_taken'))\n",
    "                )"
   ]
  },
  {
   "cell_type": "code",
   "execution_count": 88,
   "id": "500afaf6",
   "metadata": {
    "scrolled": true
   },
   "outputs": [
    {
     "data": {
      "text/html": [
       "<div><style>\n",
       ".dataframe > thead > tr,\n",
       ".dataframe > tbody > tr {\n",
       "  text-align: right;\n",
       "  white-space: pre-wrap;\n",
       "}\n",
       "</style>\n",
       "<small>shape: (5, 6)</small><table border=\"1\" class=\"dataframe\"><thead><tr><th>delivery_person_age</th><th>delivery_person_ratings</th><th>type_of_order</th><th>type_of_vehicle</th><th>distance</th><th>time_taken</th></tr><tr><td>i64</td><td>f64</td><td>str</td><td>str</td><td>f64</td><td>i64</td></tr></thead><tbody><tr><td>37</td><td>4.9</td><td>&quot;snack&quot;</td><td>&quot;motorcycle&quot;</td><td>2.29</td><td>24</td></tr><tr><td>34</td><td>4.5</td><td>&quot;snack&quot;</td><td>&quot;scooter&quot;</td><td>14.78</td><td>33</td></tr><tr><td>23</td><td>4.4</td><td>&quot;drinks&quot;</td><td>&quot;motorcycle&quot;</td><td>1.14</td><td>26</td></tr><tr><td>38</td><td>4.7</td><td>&quot;buffet&quot;</td><td>&quot;motorcycle&quot;</td><td>5.7</td><td>21</td></tr><tr><td>32</td><td>4.6</td><td>&quot;snack&quot;</td><td>&quot;scooter&quot;</td><td>4.51</td><td>30</td></tr></tbody></table></div>"
      ],
      "text/plain": [
       "shape: (5, 6)\n",
       "┌────────────────────┬───────────────────┬───────────────┬─────────────────┬──────────┬────────────┐\n",
       "│ delivery_person_ag ┆ delivery_person_r ┆ type_of_order ┆ type_of_vehicle ┆ distance ┆ time_taken │\n",
       "│ e                  ┆ atings            ┆ ---           ┆ ---             ┆ ---      ┆ ---        │\n",
       "│ ---                ┆ ---               ┆ str           ┆ str             ┆ f64      ┆ i64        │\n",
       "│ i64                ┆ f64               ┆               ┆                 ┆          ┆            │\n",
       "╞════════════════════╪═══════════════════╪═══════════════╪═════════════════╪══════════╪════════════╡\n",
       "│ 37                 ┆ 4.9               ┆ snack         ┆ motorcycle      ┆ 2.29     ┆ 24         │\n",
       "│ 34                 ┆ 4.5               ┆ snack         ┆ scooter         ┆ 14.78    ┆ 33         │\n",
       "│ 23                 ┆ 4.4               ┆ drinks        ┆ motorcycle      ┆ 1.14     ┆ 26         │\n",
       "│ 38                 ┆ 4.7               ┆ buffet        ┆ motorcycle      ┆ 5.7      ┆ 21         │\n",
       "│ 32                 ┆ 4.6               ┆ snack         ┆ scooter         ┆ 4.51     ┆ 30         │\n",
       "└────────────────────┴───────────────────┴───────────────┴─────────────────┴──────────┴────────────┘"
      ]
     },
     "execution_count": 88,
     "metadata": {},
     "output_type": "execute_result"
    }
   ],
   "source": [
    "delivery_data.head()"
   ]
  },
  {
   "cell_type": "code",
   "execution_count": 89,
   "id": "3352c589",
   "metadata": {},
   "outputs": [],
   "source": [
    "data_matrix = delivery_data.to_dummies(pl.selectors.string(), drop_first = True)"
   ]
  },
  {
   "cell_type": "code",
   "execution_count": 90,
   "id": "df07d50a",
   "metadata": {
    "scrolled": true
   },
   "outputs": [
    {
     "data": {
      "text/html": [
       "<div><style>\n",
       ".dataframe > thead > tr,\n",
       ".dataframe > tbody > tr {\n",
       "  text-align: right;\n",
       "  white-space: pre-wrap;\n",
       "}\n",
       "</style>\n",
       "<small>shape: (10, 10)</small><table border=\"1\" class=\"dataframe\"><thead><tr><th>delivery_person_age</th><th>delivery_person_ratings</th><th>type_of_order_buffet</th><th>type_of_order_drinks</th><th>type_of_order_meal</th><th>type_of_vehicle_bicycle</th><th>type_of_vehicle_electric_scooter</th><th>type_of_vehicle_scooter</th><th>distance</th><th>time_taken</th></tr><tr><td>i64</td><td>f64</td><td>u8</td><td>u8</td><td>u8</td><td>u8</td><td>u8</td><td>u8</td><td>f64</td><td>i64</td></tr></thead><tbody><tr><td>37</td><td>4.9</td><td>0</td><td>0</td><td>0</td><td>0</td><td>0</td><td>0</td><td>2.29</td><td>24</td></tr><tr><td>34</td><td>4.5</td><td>0</td><td>0</td><td>0</td><td>0</td><td>0</td><td>1</td><td>14.78</td><td>33</td></tr><tr><td>23</td><td>4.4</td><td>0</td><td>1</td><td>0</td><td>0</td><td>0</td><td>0</td><td>1.14</td><td>26</td></tr><tr><td>38</td><td>4.7</td><td>1</td><td>0</td><td>0</td><td>0</td><td>0</td><td>0</td><td>5.7</td><td>21</td></tr><tr><td>32</td><td>4.6</td><td>0</td><td>0</td><td>0</td><td>0</td><td>0</td><td>1</td><td>4.51</td><td>30</td></tr><tr><td>22</td><td>4.8</td><td>1</td><td>0</td><td>0</td><td>0</td><td>0</td><td>0</td><td>3.4</td><td>26</td></tr><tr><td>33</td><td>4.7</td><td>0</td><td>0</td><td>1</td><td>0</td><td>0</td><td>1</td><td>12.27</td><td>40</td></tr><tr><td>35</td><td>4.6</td><td>0</td><td>0</td><td>1</td><td>0</td><td>0</td><td>0</td><td>14.83</td><td>32</td></tr><tr><td>22</td><td>4.8</td><td>1</td><td>0</td><td>0</td><td>0</td><td>0</td><td>0</td><td>14.74</td><td>34</td></tr><tr><td>36</td><td>4.2</td><td>0</td><td>0</td><td>0</td><td>0</td><td>0</td><td>0</td><td>7.95</td><td>46</td></tr></tbody></table></div>"
      ],
      "text/plain": [
       "shape: (10, 10)\n",
       "┌───────────┬───────────┬───────────┬───────────┬───┬───────────┬───────────┬──────────┬───────────┐\n",
       "│ delivery_ ┆ delivery_ ┆ type_of_o ┆ type_of_o ┆ … ┆ type_of_v ┆ type_of_v ┆ distance ┆ time_take │\n",
       "│ person_ag ┆ person_ra ┆ rder_buff ┆ rder_drin ┆   ┆ ehicle_el ┆ ehicle_sc ┆ ---      ┆ n         │\n",
       "│ e         ┆ tings     ┆ et        ┆ ks        ┆   ┆ ectric_sc ┆ ooter     ┆ f64      ┆ ---       │\n",
       "│ ---       ┆ ---       ┆ ---       ┆ ---       ┆   ┆ ooter     ┆ ---       ┆          ┆ i64       │\n",
       "│ i64       ┆ f64       ┆ u8        ┆ u8        ┆   ┆ ---       ┆ u8        ┆          ┆           │\n",
       "│           ┆           ┆           ┆           ┆   ┆ u8        ┆           ┆          ┆           │\n",
       "╞═══════════╪═══════════╪═══════════╪═══════════╪═══╪═══════════╪═══════════╪══════════╪═══════════╡\n",
       "│ 37        ┆ 4.9       ┆ 0         ┆ 0         ┆ … ┆ 0         ┆ 0         ┆ 2.29     ┆ 24        │\n",
       "│ 34        ┆ 4.5       ┆ 0         ┆ 0         ┆ … ┆ 0         ┆ 1         ┆ 14.78    ┆ 33        │\n",
       "│ 23        ┆ 4.4       ┆ 0         ┆ 1         ┆ … ┆ 0         ┆ 0         ┆ 1.14     ┆ 26        │\n",
       "│ 38        ┆ 4.7       ┆ 1         ┆ 0         ┆ … ┆ 0         ┆ 0         ┆ 5.7      ┆ 21        │\n",
       "│ …         ┆ …         ┆ …         ┆ …         ┆ … ┆ …         ┆ …         ┆ …        ┆ …         │\n",
       "│ 33        ┆ 4.7       ┆ 0         ┆ 0         ┆ … ┆ 0         ┆ 1         ┆ 12.27    ┆ 40        │\n",
       "│ 35        ┆ 4.6       ┆ 0         ┆ 0         ┆ … ┆ 0         ┆ 0         ┆ 14.83    ┆ 32        │\n",
       "│ 22        ┆ 4.8       ┆ 1         ┆ 0         ┆ … ┆ 0         ┆ 0         ┆ 14.74    ┆ 34        │\n",
       "│ 36        ┆ 4.2       ┆ 0         ┆ 0         ┆ … ┆ 0         ┆ 0         ┆ 7.95     ┆ 46        │\n",
       "└───────────┴───────────┴───────────┴───────────┴───┴───────────┴───────────┴──────────┴───────────┘"
      ]
     },
     "execution_count": 90,
     "metadata": {},
     "output_type": "execute_result"
    }
   ],
   "source": [
    "data_matrix.head(n = 10)"
   ]
  },
  {
   "cell_type": "code",
   "execution_count": 91,
   "id": "2cf609a6",
   "metadata": {},
   "outputs": [],
   "source": [
    "X = data_matrix.select(pl.exclude('time_taken')).to_numpy()\n",
    "Y = data_matrix.select(pl.col('time_taken')).to_numpy()"
   ]
  },
  {
   "cell_type": "code",
   "execution_count": 92,
   "id": "1a7b01dd",
   "metadata": {
    "scrolled": true
   },
   "outputs": [
    {
     "data": {
      "text/plain": [
       "array([-8.32524964, -8.34356557, -8.37533418, -8.18651471, -8.34011921,\n",
       "       -8.47839206, -8.27939427, -8.2728591 , -8.46300842, -8.47027317])"
      ]
     },
     "execution_count": 92,
     "metadata": {},
     "output_type": "execute_result"
    }
   ],
   "source": [
    "mod_lm = LinearRegression()\n",
    "mod_pred = cross_val_score(mod_lm, X, Y, scoring = 'neg_root_mean_squared_error', cv = 10)\n",
    "mod_pred"
   ]
  },
  {
   "cell_type": "code",
   "execution_count": 93,
   "id": "06572221",
   "metadata": {},
   "outputs": [
    {
     "data": {
      "text/plain": [
       "array([-8.95637655, -9.05208362, -9.04958513, -8.88853084, -8.96229077,\n",
       "       -9.01875726, -8.82599209, -8.90767089, -9.07696874, -9.00822028])"
      ]
     },
     "execution_count": 93,
     "metadata": {},
     "output_type": "execute_result"
    }
   ],
   "source": [
    "mod_lasso = Lasso()\n",
    "mod_pred = cross_val_score(mod_lasso, X, Y, scoring = 'neg_root_mean_squared_error', cv = 10)\n",
    "mod_pred"
   ]
  },
  {
   "cell_type": "code",
   "execution_count": 95,
   "id": "58e8b2f0",
   "metadata": {
    "scrolled": false
   },
   "outputs": [
    {
     "data": {
      "text/plain": [
       "array([-8.3252488 , -8.34362846, -8.37535888, -8.18662878, -8.3400367 ,\n",
       "       -8.47842379, -8.27926522, -8.27289537, -8.46298984, -8.47014022])"
      ]
     },
     "execution_count": 95,
     "metadata": {},
     "output_type": "execute_result"
    }
   ],
   "source": [
    "mod_ridge = Ridge()\n",
    "mod_pred = cross_val_score(mod_ridge, X, Y, scoring = 'neg_root_mean_squared_error', cv = 10)\n",
    "mod_pred"
   ]
  },
  {
   "cell_type": "code",
   "execution_count": null,
   "id": "cbaf3e6c",
   "metadata": {},
   "outputs": [],
   "source": []
  }
 ],
 "metadata": {
  "kernelspec": {
   "display_name": "Python 3 (ipykernel)",
   "language": "python",
   "name": "python3"
  },
  "language_info": {
   "codemirror_mode": {
    "name": "ipython",
    "version": 3
   },
   "file_extension": ".py",
   "mimetype": "text/x-python",
   "name": "python",
   "nbconvert_exporter": "python",
   "pygments_lexer": "ipython3",
   "version": "3.11.5"
  }
 },
 "nbformat": 4,
 "nbformat_minor": 5
}
